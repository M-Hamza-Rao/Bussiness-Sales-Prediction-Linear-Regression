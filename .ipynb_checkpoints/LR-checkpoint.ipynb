{
 "cells": [
  {
   "cell_type": "code",
   "execution_count": 31,
   "id": "e39cd074",
   "metadata": {},
   "outputs": [],
   "source": [
    "import pandas as pd\n",
    "from sklearn.linear_model import Lasso\n",
    "from sklearn.model_selection import train_test_split\n",
    "from sklearn.linear_model import LinearRegression\n",
    "from sklearn.metrics import mean_squared_error, r2_score\n",
    "import matplotlib.pyplot as plt\n",
    "import math"
   ]
  },
  {
   "cell_type": "code",
   "execution_count": 2,
   "id": "9488ddc2",
   "metadata": {},
   "outputs": [
    {
     "name": "stdout",
     "output_type": "stream",
     "text": [
      "<class 'pandas.core.frame.DataFrame'>\n",
      "RangeIndex: 5000 entries, 0 to 4999\n",
      "Data columns (total 5 columns):\n",
      " #   Column              Non-Null Count  Dtype  \n",
      "---  ------              --------------  -----  \n",
      " 0   Store_ID            5000 non-null   int64  \n",
      " 1   Advertising_Budget  5000 non-null   float64\n",
      " 2   Foot_Traffic        5000 non-null   float64\n",
      " 3   Seasonal_Factor     5000 non-null   float64\n",
      " 4   Sales               5000 non-null   float64\n",
      "dtypes: float64(4), int64(1)\n",
      "memory usage: 195.4 KB\n",
      "None\n"
     ]
    },
    {
     "data": {
      "text/html": [
       "<div>\n",
       "<style scoped>\n",
       "    .dataframe tbody tr th:only-of-type {\n",
       "        vertical-align: middle;\n",
       "    }\n",
       "\n",
       "    .dataframe tbody tr th {\n",
       "        vertical-align: top;\n",
       "    }\n",
       "\n",
       "    .dataframe thead th {\n",
       "        text-align: right;\n",
       "    }\n",
       "</style>\n",
       "<table border=\"1\" class=\"dataframe\">\n",
       "  <thead>\n",
       "    <tr style=\"text-align: right;\">\n",
       "      <th></th>\n",
       "      <th>Store_ID</th>\n",
       "      <th>Advertising_Budget</th>\n",
       "      <th>Foot_Traffic</th>\n",
       "      <th>Seasonal_Factor</th>\n",
       "      <th>Sales</th>\n",
       "    </tr>\n",
       "  </thead>\n",
       "  <tbody>\n",
       "    <tr>\n",
       "      <th>0</th>\n",
       "      <td>52</td>\n",
       "      <td>3867.480665</td>\n",
       "      <td>3600.499932</td>\n",
       "      <td>0.729654</td>\n",
       "      <td>239749.535663</td>\n",
       "    </tr>\n",
       "    <tr>\n",
       "      <th>1</th>\n",
       "      <td>93</td>\n",
       "      <td>9132.025991</td>\n",
       "      <td>3051.555464</td>\n",
       "      <td>1.613902</td>\n",
       "      <td>484812.367954</td>\n",
       "    </tr>\n",
       "    <tr>\n",
       "      <th>2</th>\n",
       "      <td>15</td>\n",
       "      <td>1698.766984</td>\n",
       "      <td>3576.165913</td>\n",
       "      <td>1.034590</td>\n",
       "      <td>115290.295476</td>\n",
       "    </tr>\n",
       "    <tr>\n",
       "      <th>3</th>\n",
       "      <td>72</td>\n",
       "      <td>8459.841486</td>\n",
       "      <td>512.789691</td>\n",
       "      <td>1.372678</td>\n",
       "      <td>425744.466076</td>\n",
       "    </tr>\n",
       "    <tr>\n",
       "      <th>4</th>\n",
       "      <td>61</td>\n",
       "      <td>4140.010675</td>\n",
       "      <td>4689.041650</td>\n",
       "      <td>0.649322</td>\n",
       "      <td>251638.044259</td>\n",
       "    </tr>\n",
       "    <tr>\n",
       "      <th>...</th>\n",
       "      <td>...</td>\n",
       "      <td>...</td>\n",
       "      <td>...</td>\n",
       "      <td>...</td>\n",
       "      <td>...</td>\n",
       "    </tr>\n",
       "    <tr>\n",
       "      <th>4995</th>\n",
       "      <td>49</td>\n",
       "      <td>2082.258879</td>\n",
       "      <td>2286.168263</td>\n",
       "      <td>1.595995</td>\n",
       "      <td>126279.352621</td>\n",
       "    </tr>\n",
       "    <tr>\n",
       "      <th>4996</th>\n",
       "      <td>58</td>\n",
       "      <td>3076.608489</td>\n",
       "      <td>4196.931720</td>\n",
       "      <td>1.960473</td>\n",
       "      <td>190860.677480</td>\n",
       "    </tr>\n",
       "    <tr>\n",
       "      <th>4997</th>\n",
       "      <td>39</td>\n",
       "      <td>4156.635686</td>\n",
       "      <td>864.567018</td>\n",
       "      <td>1.204366</td>\n",
       "      <td>223096.494160</td>\n",
       "    </tr>\n",
       "    <tr>\n",
       "      <th>4998</th>\n",
       "      <td>80</td>\n",
       "      <td>7819.614501</td>\n",
       "      <td>1924.281720</td>\n",
       "      <td>1.448552</td>\n",
       "      <td>414616.319205</td>\n",
       "    </tr>\n",
       "    <tr>\n",
       "      <th>4999</th>\n",
       "      <td>97</td>\n",
       "      <td>6241.608684</td>\n",
       "      <td>4848.433214</td>\n",
       "      <td>1.146463</td>\n",
       "      <td>355352.344502</td>\n",
       "    </tr>\n",
       "  </tbody>\n",
       "</table>\n",
       "<p>5000 rows × 5 columns</p>\n",
       "</div>"
      ],
      "text/plain": [
       "      Store_ID  Advertising_Budget  Foot_Traffic  Seasonal_Factor  \\\n",
       "0           52         3867.480665   3600.499932         0.729654   \n",
       "1           93         9132.025991   3051.555464         1.613902   \n",
       "2           15         1698.766984   3576.165913         1.034590   \n",
       "3           72         8459.841486    512.789691         1.372678   \n",
       "4           61         4140.010675   4689.041650         0.649322   \n",
       "...        ...                 ...           ...              ...   \n",
       "4995        49         2082.258879   2286.168263         1.595995   \n",
       "4996        58         3076.608489   4196.931720         1.960473   \n",
       "4997        39         4156.635686    864.567018         1.204366   \n",
       "4998        80         7819.614501   1924.281720         1.448552   \n",
       "4999        97         6241.608684   4848.433214         1.146463   \n",
       "\n",
       "              Sales  \n",
       "0     239749.535663  \n",
       "1     484812.367954  \n",
       "2     115290.295476  \n",
       "3     425744.466076  \n",
       "4     251638.044259  \n",
       "...             ...  \n",
       "4995  126279.352621  \n",
       "4996  190860.677480  \n",
       "4997  223096.494160  \n",
       "4998  414616.319205  \n",
       "4999  355352.344502  \n",
       "\n",
       "[5000 rows x 5 columns]"
      ]
     },
     "execution_count": 2,
     "metadata": {},
     "output_type": "execute_result"
    }
   ],
   "source": [
    "df = pd.read_csv(\"store_sales_data.csv\")\n",
    "print(df.info())\n",
    "df"
   ]
  },
  {
   "cell_type": "code",
   "execution_count": 5,
   "id": "b010ff36",
   "metadata": {},
   "outputs": [
    {
     "data": {
      "text/plain": [
       "Store_ID             -0.004730\n",
       "Advertising_Budget    0.994349\n",
       "Foot_Traffic          0.091488\n",
       "Seasonal_Factor      -0.012891\n",
       "Sales                 1.000000\n",
       "Name: Sales, dtype: float64"
      ]
     },
     "execution_count": 5,
     "metadata": {},
     "output_type": "execute_result"
    }
   ],
   "source": [
    "df.corr()['Sales']"
   ]
  },
  {
   "cell_type": "code",
   "execution_count": 26,
   "id": "6601d710",
   "metadata": {},
   "outputs": [],
   "source": [
    "X = df[[\"Advertising_Budget\", \"Seasonal_Factor\"]] #Not including foot_traffic as sales occurs due to people coming in.\n",
    "y = df[\"Sales\"]\n",
    "X_train, X_test, y_train, y_test = train_test_split(X, y, test_size=0.2, random_state=42)\n"
   ]
  },
  {
   "cell_type": "code",
   "execution_count": 27,
   "id": "d88cd538",
   "metadata": {},
   "outputs": [
    {
     "data": {
      "text/plain": [
       "LinearRegression()"
      ]
     },
     "execution_count": 27,
     "metadata": {},
     "output_type": "execute_result"
    }
   ],
   "source": [
    "model = LinearRegression()\n",
    "model.fit(X_train, y_train)"
   ]
  },
  {
   "cell_type": "code",
   "execution_count": 28,
   "id": "d5135708",
   "metadata": {},
   "outputs": [],
   "source": [
    "y_pred = model.predict(X_test)"
   ]
  },
  {
   "cell_type": "code",
   "execution_count": 29,
   "id": "8be65c03",
   "metadata": {},
   "outputs": [],
   "source": [
    "mse = mean_squared_error(y_test, y_pred)\n",
    "r2 = r2_score(y_test, y_pred)"
   ]
  },
  {
   "cell_type": "code",
   "execution_count": 36,
   "id": "6934f19e",
   "metadata": {},
   "outputs": [
    {
     "name": "stdout",
     "output_type": "stream",
     "text": [
      "SQRT(Mean Squared Error): 13823.675835874714\n",
      "Error to Mean Sales ratio 0.0457407760239523\n",
      "R-squared: 0.9891832145613793\n"
     ]
    }
   ],
   "source": [
    "print(\"SQRT(Mean Squared Error):\", math.sqrt(mse))\n",
    "print(\"Error to Mean Sales ratio\", math.sqrt(mse)/df['Sales'].mean())\n",
    "print(\"R-squared:\", r2)"
   ]
  },
  {
   "cell_type": "code",
   "execution_count": 25,
   "id": "f5be4012",
   "metadata": {},
   "outputs": [
    {
     "data": {
      "image/png": "[encoded data removed]",
      "text/plain": [
       "<Figure size 640x480 with 1 Axes>"
      ]
     },
     "metadata": {},
     "output_type": "display_data"
    }
   ],
   "source": [
    "plt.scatter(y_test, y_pred, alpha=0.7, color='blue')\n",
    "plt.xlabel(\"Actual Sales\")\n",
    "plt.ylabel(\"Predicted Sales\")\n",
    "plt.title(\"Actual vs Predicted Sales\")\n",
    "plt.grid()\n",
    "plt.show()"
   ]
  }
 ],
 "metadata": {
  "kernelspec": {
   "display_name": "Python 3 (ipykernel)",
   "language": "python",
   "name": "python3"
  },
  "language_info": {
   "codemirror_mode": {
    "name": "ipython",
    "version": 3
   },
   "file_extension": ".py",
   "mimetype": "text/x-python",
   "name": "python",
   "nbconvert_exporter": "python",
   "pygments_lexer": "ipython3",
   "version": "3.7.0"
  }
 },
 "nbformat": 4,
 "nbformat_minor": 5
}
