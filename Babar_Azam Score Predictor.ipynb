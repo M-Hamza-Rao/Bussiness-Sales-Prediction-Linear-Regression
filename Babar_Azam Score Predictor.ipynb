{
 "cells": [
  {
   "cell_type": "code",
   "execution_count": 1,
   "id": "fae2f327",
   "metadata": {},
   "outputs": [],
   "source": [
    "import pandas as pd\n",
    "import numpy as np\n",
    "from sklearn.linear_model import Lasso\n",
    "from sklearn.model_selection import train_test_split\n",
    "from sklearn.linear_model import LinearRegression\n",
    "from sklearn.metrics import mean_squared_error, r2_score\n",
    "import matplotlib.pyplot as plt\n",
    "from sklearn.preprocessing import PolynomialFeatures\n",
    "import math"
   ]
  },
  {
   "cell_type": "code",
   "execution_count": 2,
   "id": "c97c8a2e",
   "metadata": {},
   "outputs": [
    {
     "name": "stdout",
     "output_type": "stream",
     "text": [
      "<class 'pandas.core.frame.DataFrame'>\n",
      "RangeIndex: 122 entries, 0 to 121\n",
      "Data columns (total 13 columns):\n",
      " #   Column      Non-Null Count  Dtype \n",
      "---  ------      --------------  ----- \n",
      " 0   Runs        122 non-null    object\n",
      " 1   Mins        122 non-null    object\n",
      " 2   BF          122 non-null    object\n",
      " 3   4s          122 non-null    object\n",
      " 4   6s          122 non-null    object\n",
      " 5   SR          122 non-null    object\n",
      " 6   Pos         122 non-null    object\n",
      " 7   Dismissal   122 non-null    object\n",
      " 8   Inns        122 non-null    object\n",
      " 9   Opposition  122 non-null    object\n",
      " 10  Ground      122 non-null    object\n",
      " 11  Start Date  122 non-null    object\n",
      " 12  Match Type  122 non-null    object\n",
      "dtypes: object(13)\n",
      "memory usage: 12.5+ KB\n",
      "None\n"
     ]
    },
    {
     "data": {
      "text/html": [
       "<div>\n",
       "<style scoped>\n",
       "    .dataframe tbody tr th:only-of-type {\n",
       "        vertical-align: middle;\n",
       "    }\n",
       "\n",
       "    .dataframe tbody tr th {\n",
       "        vertical-align: top;\n",
       "    }\n",
       "\n",
       "    .dataframe thead th {\n",
       "        text-align: right;\n",
       "    }\n",
       "</style>\n",
       "<table border=\"1\" class=\"dataframe\">\n",
       "  <thead>\n",
       "    <tr style=\"text-align: right;\">\n",
       "      <th></th>\n",
       "      <th>Runs</th>\n",
       "      <th>Mins</th>\n",
       "      <th>BF</th>\n",
       "      <th>4s</th>\n",
       "      <th>6s</th>\n",
       "      <th>SR</th>\n",
       "      <th>Pos</th>\n",
       "      <th>Dismissal</th>\n",
       "      <th>Inns</th>\n",
       "      <th>Opposition</th>\n",
       "      <th>Ground</th>\n",
       "      <th>Start Date</th>\n",
       "      <th>Match Type</th>\n",
       "    </tr>\n",
       "  </thead>\n",
       "  <tbody>\n",
       "    <tr>\n",
       "      <th>0</th>\n",
       "      <td>54</td>\n",
       "      <td>78</td>\n",
       "      <td>60</td>\n",
       "      <td>4</td>\n",
       "      <td>0</td>\n",
       "      <td>90.00</td>\n",
       "      <td>4</td>\n",
       "      <td>bowled</td>\n",
       "      <td>1</td>\n",
       "      <td>Zimbabwe</td>\n",
       "      <td>Lahore</td>\n",
       "      <td>31 May 2015</td>\n",
       "      <td>ODI # 3653</td>\n",
       "    </tr>\n",
       "    <tr>\n",
       "      <th>1</th>\n",
       "      <td>25</td>\n",
       "      <td>48</td>\n",
       "      <td>30</td>\n",
       "      <td>3</td>\n",
       "      <td>0</td>\n",
       "      <td>83.33</td>\n",
       "      <td>4</td>\n",
       "      <td>lbw</td>\n",
       "      <td>2</td>\n",
       "      <td>Sri Lanka</td>\n",
       "      <td>Dambulla</td>\n",
       "      <td>11 Jul 2015</td>\n",
       "      <td>ODI # 3664</td>\n",
       "    </tr>\n",
       "    <tr>\n",
       "      <th>2</th>\n",
       "      <td>12</td>\n",
       "      <td>23</td>\n",
       "      <td>19</td>\n",
       "      <td>1</td>\n",
       "      <td>0</td>\n",
       "      <td>63.15</td>\n",
       "      <td>4</td>\n",
       "      <td>bowled</td>\n",
       "      <td>1</td>\n",
       "      <td>Sri Lanka</td>\n",
       "      <td>Pallekele</td>\n",
       "      <td>15 Jul 2015</td>\n",
       "      <td>ODI # 3669</td>\n",
       "    </tr>\n",
       "    <tr>\n",
       "      <th>3</th>\n",
       "      <td>62*</td>\n",
       "      <td>79</td>\n",
       "      <td>62</td>\n",
       "      <td>2</td>\n",
       "      <td>4</td>\n",
       "      <td>100.00</td>\n",
       "      <td>6</td>\n",
       "      <td>not out</td>\n",
       "      <td>2</td>\n",
       "      <td>England</td>\n",
       "      <td>Abu Dhabi</td>\n",
       "      <td>11 Nov 2015</td>\n",
       "      <td>ODI # 3707</td>\n",
       "    </tr>\n",
       "    <tr>\n",
       "      <th>4</th>\n",
       "      <td>4</td>\n",
       "      <td>8</td>\n",
       "      <td>6</td>\n",
       "      <td>0</td>\n",
       "      <td>0</td>\n",
       "      <td>66.66</td>\n",
       "      <td>2</td>\n",
       "      <td>lbw</td>\n",
       "      <td>2</td>\n",
       "      <td>England</td>\n",
       "      <td>Abu Dhabi</td>\n",
       "      <td>13 Nov 2015</td>\n",
       "      <td>ODI # 3708</td>\n",
       "    </tr>\n",
       "    <tr>\n",
       "      <th>...</th>\n",
       "      <td>...</td>\n",
       "      <td>...</td>\n",
       "      <td>...</td>\n",
       "      <td>...</td>\n",
       "      <td>...</td>\n",
       "      <td>...</td>\n",
       "      <td>...</td>\n",
       "      <td>...</td>\n",
       "      <td>...</td>\n",
       "      <td>...</td>\n",
       "      <td>...</td>\n",
       "      <td>...</td>\n",
       "      <td>...</td>\n",
       "    </tr>\n",
       "    <tr>\n",
       "      <th>117</th>\n",
       "      <td>37</td>\n",
       "      <td>66</td>\n",
       "      <td>44</td>\n",
       "      <td>4</td>\n",
       "      <td>0</td>\n",
       "      <td>84.09</td>\n",
       "      <td>3</td>\n",
       "      <td>bowled</td>\n",
       "      <td>1</td>\n",
       "      <td>Australia</td>\n",
       "      <td>Melbourne</td>\n",
       "      <td>4 Nov 2024</td>\n",
       "      <td>ODI # 4795</td>\n",
       "    </tr>\n",
       "    <tr>\n",
       "      <th>118</th>\n",
       "      <td>15*</td>\n",
       "      <td>22</td>\n",
       "      <td>20</td>\n",
       "      <td>0</td>\n",
       "      <td>1</td>\n",
       "      <td>75.00</td>\n",
       "      <td>3</td>\n",
       "      <td>not out</td>\n",
       "      <td>2</td>\n",
       "      <td>Australia</td>\n",
       "      <td>Adelaide</td>\n",
       "      <td>8 Nov 2024</td>\n",
       "      <td>ODI # 4801</td>\n",
       "    </tr>\n",
       "    <tr>\n",
       "      <th>119</th>\n",
       "      <td>28*</td>\n",
       "      <td>41</td>\n",
       "      <td>30</td>\n",
       "      <td>4</td>\n",
       "      <td>0</td>\n",
       "      <td>93.33</td>\n",
       "      <td>3</td>\n",
       "      <td>not out</td>\n",
       "      <td>2</td>\n",
       "      <td>Australia</td>\n",
       "      <td>Perth</td>\n",
       "      <td>10 Nov 2024</td>\n",
       "      <td>ODI # 4804</td>\n",
       "    </tr>\n",
       "    <tr>\n",
       "      <th>120</th>\n",
       "      <td>23</td>\n",
       "      <td>51</td>\n",
       "      <td>38</td>\n",
       "      <td>3</td>\n",
       "      <td>0</td>\n",
       "      <td>60.52</td>\n",
       "      <td>3</td>\n",
       "      <td>caught</td>\n",
       "      <td>2</td>\n",
       "      <td>South Africa</td>\n",
       "      <td>Paarl</td>\n",
       "      <td>17 Dec 2024</td>\n",
       "      <td>ODI # 4817</td>\n",
       "    </tr>\n",
       "    <tr>\n",
       "      <th>121</th>\n",
       "      <td>73</td>\n",
       "      <td>136</td>\n",
       "      <td>95</td>\n",
       "      <td>7</td>\n",
       "      <td>0</td>\n",
       "      <td>76.84</td>\n",
       "      <td>3</td>\n",
       "      <td>caught</td>\n",
       "      <td>1</td>\n",
       "      <td>South Africa</td>\n",
       "      <td>Cape Town</td>\n",
       "      <td>19 Dec 2024</td>\n",
       "      <td>ODI # 4819</td>\n",
       "    </tr>\n",
       "  </tbody>\n",
       "</table>\n",
       "<p>122 rows × 13 columns</p>\n",
       "</div>"
      ],
      "text/plain": [
       "    Runs Mins  BF 4s 6s      SR Pos Dismissal Inns    Opposition     Ground  \\\n",
       "0     54   78  60  4  0   90.00   4    bowled    1      Zimbabwe     Lahore   \n",
       "1     25   48  30  3  0   83.33   4       lbw    2     Sri Lanka   Dambulla   \n",
       "2     12   23  19  1  0   63.15   4    bowled    1     Sri Lanka  Pallekele   \n",
       "3    62*   79  62  2  4  100.00   6   not out    2       England  Abu Dhabi   \n",
       "4      4    8   6  0  0   66.66   2       lbw    2       England  Abu Dhabi   \n",
       "..   ...  ...  .. .. ..     ...  ..       ...  ...           ...        ...   \n",
       "117   37   66  44  4  0   84.09   3    bowled    1     Australia  Melbourne   \n",
       "118  15*   22  20  0  1   75.00   3   not out    2     Australia   Adelaide   \n",
       "119  28*   41  30  4  0   93.33   3   not out    2     Australia      Perth   \n",
       "120   23   51  38  3  0   60.52   3    caught    2  South Africa      Paarl   \n",
       "121   73  136  95  7  0   76.84   3    caught    1  South Africa  Cape Town   \n",
       "\n",
       "      Start Date  Match Type  \n",
       "0    31 May 2015  ODI # 3653  \n",
       "1    11 Jul 2015  ODI # 3664  \n",
       "2    15 Jul 2015  ODI # 3669  \n",
       "3    11 Nov 2015  ODI # 3707  \n",
       "4    13 Nov 2015  ODI # 3708  \n",
       "..           ...         ...  \n",
       "117   4 Nov 2024  ODI # 4795  \n",
       "118   8 Nov 2024  ODI # 4801  \n",
       "119  10 Nov 2024  ODI # 4804  \n",
       "120  17 Dec 2024  ODI # 4817  \n",
       "121  19 Dec 2024  ODI # 4819  \n",
       "\n",
       "[122 rows x 13 columns]"
      ]
     },
     "execution_count": 2,
     "metadata": {},
     "output_type": "execute_result"
    }
   ],
   "source": [
    "df = pd.read_csv(\"BabarAzam_ODI_data.csv\")\n",
    "print(df.info())\n",
    "df"
   ]
  },
  {
   "cell_type": "code",
   "execution_count": 20,
   "id": "f95b8815",
   "metadata": {},
   "outputs": [
    {
     "data": {
      "text/html": [
       "<div>\n",
       "<style scoped>\n",
       "    .dataframe tbody tr th:only-of-type {\n",
       "        vertical-align: middle;\n",
       "    }\n",
       "\n",
       "    .dataframe tbody tr th {\n",
       "        vertical-align: top;\n",
       "    }\n",
       "\n",
       "    .dataframe thead th {\n",
       "        text-align: right;\n",
       "    }\n",
       "</style>\n",
       "<table border=\"1\" class=\"dataframe\">\n",
       "  <thead>\n",
       "    <tr style=\"text-align: right;\">\n",
       "      <th></th>\n",
       "      <th>Runs</th>\n",
       "      <th>BF</th>\n",
       "      <th>Pos</th>\n",
       "      <th>Inns</th>\n",
       "      <th>Opposition</th>\n",
       "      <th>Ground</th>\n",
       "    </tr>\n",
       "  </thead>\n",
       "  <tbody>\n",
       "    <tr>\n",
       "      <th>0</th>\n",
       "      <td>54</td>\n",
       "      <td>60</td>\n",
       "      <td>4</td>\n",
       "      <td>1</td>\n",
       "      <td>Zimbabwe</td>\n",
       "      <td>Lahore</td>\n",
       "    </tr>\n",
       "    <tr>\n",
       "      <th>1</th>\n",
       "      <td>25</td>\n",
       "      <td>30</td>\n",
       "      <td>4</td>\n",
       "      <td>2</td>\n",
       "      <td>Sri Lanka</td>\n",
       "      <td>Dambulla</td>\n",
       "    </tr>\n",
       "    <tr>\n",
       "      <th>2</th>\n",
       "      <td>12</td>\n",
       "      <td>19</td>\n",
       "      <td>4</td>\n",
       "      <td>1</td>\n",
       "      <td>Sri Lanka</td>\n",
       "      <td>Pallekele</td>\n",
       "    </tr>\n",
       "    <tr>\n",
       "      <th>3</th>\n",
       "      <td>62*</td>\n",
       "      <td>62</td>\n",
       "      <td>6</td>\n",
       "      <td>2</td>\n",
       "      <td>England</td>\n",
       "      <td>Abu Dhabi</td>\n",
       "    </tr>\n",
       "    <tr>\n",
       "      <th>4</th>\n",
       "      <td>4</td>\n",
       "      <td>6</td>\n",
       "      <td>2</td>\n",
       "      <td>2</td>\n",
       "      <td>England</td>\n",
       "      <td>Abu Dhabi</td>\n",
       "    </tr>\n",
       "  </tbody>\n",
       "</table>\n",
       "</div>"
      ],
      "text/plain": [
       "  Runs  BF Pos Inns Opposition     Ground\n",
       "0   54  60   4    1   Zimbabwe     Lahore\n",
       "1   25  30   4    2  Sri Lanka   Dambulla\n",
       "2   12  19   4    1  Sri Lanka  Pallekele\n",
       "3  62*  62   6    2    England  Abu Dhabi\n",
       "4    4   6   2    2    England  Abu Dhabi"
      ]
     },
     "execution_count": 20,
     "metadata": {},
     "output_type": "execute_result"
    }
   ],
   "source": [
    "dfr = df[['Runs','BF','Pos', 'Inns', 'Opposition', 'Ground']].copy()\n",
    "dfr.head()"
   ]
  },
  {
   "cell_type": "code",
   "execution_count": 23,
   "id": "4ff8f28f",
   "metadata": {},
   "outputs": [
    {
     "name": "stdout",
     "output_type": "stream",
     "text": [
      "['Zimbabwe' 'Sri Lanka' 'England' 'New Zealand' 'Ireland' 'West Indies'\n",
      " 'Australia' 'India' 'South Africa' 'Hong Kong' 'Afghanistan' 'Bangladesh'\n",
      " 'Netherlands' 'Nepal']\n",
      "['Lahore' 'Dambulla' 'Pallekele' 'Abu Dhabi' 'Sharjah' 'Dubai (DICS)'\n",
      " 'Wellington' 'Auckland' 'Dublin (Malahide)' 'Southampton' \"Lord's\"\n",
      " 'Nottingham' 'Leeds' 'Cardiff' 'Brisbane' 'Melbourne' 'W.A.C.A' 'Sydney'\n",
      " 'Adelaide' 'Providence' 'Birmingham' 'The Oval' 'Nelson' 'Dunedin'\n",
      " 'Hamilton' 'Bulawayo' 'Gqeberha' 'Durban' 'Centurion' 'Johannesburg'\n",
      " 'Cape Town' 'Bristol' 'Taunton' 'Manchester' 'Karachi' 'Rawalpindi'\n",
      " 'Multan' 'Rotterdam' 'Hambantota' 'Colombo (RPS)' 'Hyderabad' 'Ahmedabad'\n",
      " 'Bengaluru' 'Chennai' 'Eden Gardens' 'Perth' 'Paarl']\n"
     ]
    }
   ],
   "source": [
    "print(dfr['Opposition'].unique())\n",
    "print(dfr['Ground'].unique())"
   ]
  },
  {
   "cell_type": "code",
   "execution_count": 24,
   "id": "6e3c5a12",
   "metadata": {},
   "outputs": [
    {
     "data": {
      "text/html": [
       "<div>\n",
       "<style scoped>\n",
       "    .dataframe tbody tr th:only-of-type {\n",
       "        vertical-align: middle;\n",
       "    }\n",
       "\n",
       "    .dataframe tbody tr th {\n",
       "        vertical-align: top;\n",
       "    }\n",
       "\n",
       "    .dataframe thead th {\n",
       "        text-align: right;\n",
       "    }\n",
       "</style>\n",
       "<table border=\"1\" class=\"dataframe\">\n",
       "  <thead>\n",
       "    <tr style=\"text-align: right;\">\n",
       "      <th></th>\n",
       "      <th>Runs</th>\n",
       "      <th>BF</th>\n",
       "      <th>Pos</th>\n",
       "      <th>Inns</th>\n",
       "      <th>Opposition</th>\n",
       "      <th>Ground</th>\n",
       "    </tr>\n",
       "  </thead>\n",
       "  <tbody>\n",
       "    <tr>\n",
       "      <th>0</th>\n",
       "      <td>54</td>\n",
       "      <td>60</td>\n",
       "      <td>4</td>\n",
       "      <td>1</td>\n",
       "      <td>0.55</td>\n",
       "      <td>Lahore</td>\n",
       "    </tr>\n",
       "    <tr>\n",
       "      <th>1</th>\n",
       "      <td>25</td>\n",
       "      <td>30</td>\n",
       "      <td>4</td>\n",
       "      <td>2</td>\n",
       "      <td>0.65</td>\n",
       "      <td>Dambulla</td>\n",
       "    </tr>\n",
       "    <tr>\n",
       "      <th>2</th>\n",
       "      <td>12</td>\n",
       "      <td>19</td>\n",
       "      <td>4</td>\n",
       "      <td>1</td>\n",
       "      <td>0.65</td>\n",
       "      <td>Pallekele</td>\n",
       "    </tr>\n",
       "    <tr>\n",
       "      <th>3</th>\n",
       "      <td>62*</td>\n",
       "      <td>62</td>\n",
       "      <td>6</td>\n",
       "      <td>2</td>\n",
       "      <td>0.80</td>\n",
       "      <td>Abu Dhabi</td>\n",
       "    </tr>\n",
       "    <tr>\n",
       "      <th>4</th>\n",
       "      <td>4</td>\n",
       "      <td>6</td>\n",
       "      <td>2</td>\n",
       "      <td>2</td>\n",
       "      <td>0.80</td>\n",
       "      <td>Abu Dhabi</td>\n",
       "    </tr>\n",
       "    <tr>\n",
       "      <th>...</th>\n",
       "      <td>...</td>\n",
       "      <td>...</td>\n",
       "      <td>...</td>\n",
       "      <td>...</td>\n",
       "      <td>...</td>\n",
       "      <td>...</td>\n",
       "    </tr>\n",
       "    <tr>\n",
       "      <th>117</th>\n",
       "      <td>37</td>\n",
       "      <td>44</td>\n",
       "      <td>3</td>\n",
       "      <td>1</td>\n",
       "      <td>0.78</td>\n",
       "      <td>Melbourne</td>\n",
       "    </tr>\n",
       "    <tr>\n",
       "      <th>118</th>\n",
       "      <td>15*</td>\n",
       "      <td>20</td>\n",
       "      <td>3</td>\n",
       "      <td>2</td>\n",
       "      <td>0.78</td>\n",
       "      <td>Adelaide</td>\n",
       "    </tr>\n",
       "    <tr>\n",
       "      <th>119</th>\n",
       "      <td>28*</td>\n",
       "      <td>30</td>\n",
       "      <td>3</td>\n",
       "      <td>2</td>\n",
       "      <td>0.78</td>\n",
       "      <td>Perth</td>\n",
       "    </tr>\n",
       "    <tr>\n",
       "      <th>120</th>\n",
       "      <td>23</td>\n",
       "      <td>38</td>\n",
       "      <td>3</td>\n",
       "      <td>2</td>\n",
       "      <td>0.85</td>\n",
       "      <td>Paarl</td>\n",
       "    </tr>\n",
       "    <tr>\n",
       "      <th>121</th>\n",
       "      <td>73</td>\n",
       "      <td>95</td>\n",
       "      <td>3</td>\n",
       "      <td>1</td>\n",
       "      <td>0.85</td>\n",
       "      <td>Cape Town</td>\n",
       "    </tr>\n",
       "  </tbody>\n",
       "</table>\n",
       "<p>122 rows × 6 columns</p>\n",
       "</div>"
      ],
      "text/plain": [
       "    Runs  BF Pos Inns  Opposition     Ground\n",
       "0     54  60   4    1        0.55     Lahore\n",
       "1     25  30   4    2        0.65   Dambulla\n",
       "2     12  19   4    1        0.65  Pallekele\n",
       "3    62*  62   6    2        0.80  Abu Dhabi\n",
       "4      4   6   2    2        0.80  Abu Dhabi\n",
       "..   ...  ..  ..  ...         ...        ...\n",
       "117   37  44   3    1        0.78  Melbourne\n",
       "118  15*  20   3    2        0.78   Adelaide\n",
       "119  28*  30   3    2        0.78      Perth\n",
       "120   23  38   3    2        0.85      Paarl\n",
       "121   73  95   3    1        0.85  Cape Town\n",
       "\n",
       "[122 rows x 6 columns]"
      ]
     },
     "execution_count": 24,
     "metadata": {},
     "output_type": "execute_result"
    }
   ],
   "source": [
    "team_ratings = {\n",
    "    'Zimbabwe': 0.55,\n",
    "    'Sri Lanka': 0.65,\n",
    "    'England': 0.8,\n",
    "    'New Zealand': 0.83,\n",
    "    'Ireland': 0.4,\n",
    "    'West Indies': 0.7,\n",
    "    'Australia': 0.78,\n",
    "    'India': 0.9,\n",
    "    'South Africa': 0.85,\n",
    "    'Hong Kong': 0.3,\n",
    "    'Afghanistan': 0.75,\n",
    "    'Bangladesh': 0.6,\n",
    "    'Netherlands': 0.45,\n",
    "    'Nepal': 0.5\n",
    "}\n",
    "\n",
    "dfr['Opposition'] = dfr['Opposition'].replace(team_ratings)\n",
    "dfr"
   ]
  },
  {
   "cell_type": "code",
   "execution_count": 25,
   "id": "5df962e1",
   "metadata": {},
   "outputs": [
    {
     "data": {
      "text/html": [
       "<div>\n",
       "<style scoped>\n",
       "    .dataframe tbody tr th:only-of-type {\n",
       "        vertical-align: middle;\n",
       "    }\n",
       "\n",
       "    .dataframe tbody tr th {\n",
       "        vertical-align: top;\n",
       "    }\n",
       "\n",
       "    .dataframe thead th {\n",
       "        text-align: right;\n",
       "    }\n",
       "</style>\n",
       "<table border=\"1\" class=\"dataframe\">\n",
       "  <thead>\n",
       "    <tr style=\"text-align: right;\">\n",
       "      <th></th>\n",
       "      <th>Runs</th>\n",
       "      <th>BF</th>\n",
       "      <th>Pos</th>\n",
       "      <th>Inns</th>\n",
       "      <th>Opposition</th>\n",
       "      <th>Ground</th>\n",
       "    </tr>\n",
       "  </thead>\n",
       "  <tbody>\n",
       "    <tr>\n",
       "      <th>0</th>\n",
       "      <td>54</td>\n",
       "      <td>60</td>\n",
       "      <td>4</td>\n",
       "      <td>1</td>\n",
       "      <td>0.55</td>\n",
       "      <td>0.75</td>\n",
       "    </tr>\n",
       "    <tr>\n",
       "      <th>1</th>\n",
       "      <td>25</td>\n",
       "      <td>30</td>\n",
       "      <td>4</td>\n",
       "      <td>2</td>\n",
       "      <td>0.65</td>\n",
       "      <td>0.65</td>\n",
       "    </tr>\n",
       "    <tr>\n",
       "      <th>2</th>\n",
       "      <td>12</td>\n",
       "      <td>19</td>\n",
       "      <td>4</td>\n",
       "      <td>1</td>\n",
       "      <td>0.65</td>\n",
       "      <td>0.70</td>\n",
       "    </tr>\n",
       "    <tr>\n",
       "      <th>3</th>\n",
       "      <td>62*</td>\n",
       "      <td>62</td>\n",
       "      <td>6</td>\n",
       "      <td>2</td>\n",
       "      <td>0.80</td>\n",
       "      <td>0.75</td>\n",
       "    </tr>\n",
       "    <tr>\n",
       "      <th>4</th>\n",
       "      <td>4</td>\n",
       "      <td>6</td>\n",
       "      <td>2</td>\n",
       "      <td>2</td>\n",
       "      <td>0.80</td>\n",
       "      <td>0.75</td>\n",
       "    </tr>\n",
       "    <tr>\n",
       "      <th>...</th>\n",
       "      <td>...</td>\n",
       "      <td>...</td>\n",
       "      <td>...</td>\n",
       "      <td>...</td>\n",
       "      <td>...</td>\n",
       "      <td>...</td>\n",
       "    </tr>\n",
       "    <tr>\n",
       "      <th>117</th>\n",
       "      <td>37</td>\n",
       "      <td>44</td>\n",
       "      <td>3</td>\n",
       "      <td>1</td>\n",
       "      <td>0.78</td>\n",
       "      <td>0.90</td>\n",
       "    </tr>\n",
       "    <tr>\n",
       "      <th>118</th>\n",
       "      <td>15*</td>\n",
       "      <td>20</td>\n",
       "      <td>3</td>\n",
       "      <td>2</td>\n",
       "      <td>0.78</td>\n",
       "      <td>0.90</td>\n",
       "    </tr>\n",
       "    <tr>\n",
       "      <th>119</th>\n",
       "      <td>28*</td>\n",
       "      <td>30</td>\n",
       "      <td>3</td>\n",
       "      <td>2</td>\n",
       "      <td>0.78</td>\n",
       "      <td>0.75</td>\n",
       "    </tr>\n",
       "    <tr>\n",
       "      <th>120</th>\n",
       "      <td>23</td>\n",
       "      <td>38</td>\n",
       "      <td>3</td>\n",
       "      <td>2</td>\n",
       "      <td>0.85</td>\n",
       "      <td>0.80</td>\n",
       "    </tr>\n",
       "    <tr>\n",
       "      <th>121</th>\n",
       "      <td>73</td>\n",
       "      <td>95</td>\n",
       "      <td>3</td>\n",
       "      <td>1</td>\n",
       "      <td>0.85</td>\n",
       "      <td>0.90</td>\n",
       "    </tr>\n",
       "  </tbody>\n",
       "</table>\n",
       "<p>122 rows × 6 columns</p>\n",
       "</div>"
      ],
      "text/plain": [
       "    Runs  BF Pos Inns  Opposition  Ground\n",
       "0     54  60   4    1        0.55    0.75\n",
       "1     25  30   4    2        0.65    0.65\n",
       "2     12  19   4    1        0.65    0.70\n",
       "3    62*  62   6    2        0.80    0.75\n",
       "4      4   6   2    2        0.80    0.75\n",
       "..   ...  ..  ..  ...         ...     ...\n",
       "117   37  44   3    1        0.78    0.90\n",
       "118  15*  20   3    2        0.78    0.90\n",
       "119  28*  30   3    2        0.78    0.75\n",
       "120   23  38   3    2        0.85    0.80\n",
       "121   73  95   3    1        0.85    0.90\n",
       "\n",
       "[122 rows x 6 columns]"
      ]
     },
     "execution_count": 25,
     "metadata": {},
     "output_type": "execute_result"
    }
   ],
   "source": [
    "pitch_assistance = ground_ratings = {\n",
    "    'Lahore': 0.75,\n",
    "    'Dambulla': 0.65,\n",
    "    'Pallekele': 0.7,\n",
    "    'Abu Dhabi': 0.75,\n",
    "    'Sharjah': 0.8,\n",
    "    'Dubai (DICS)': 0.7,\n",
    "    'Wellington': 0.85,\n",
    "    'Auckland': 0.85,\n",
    "    'Dublin (Malahide)': 0.8,\n",
    "    'Southampton': 0.9,\n",
    "    'Lord\\'s': 0.95,\n",
    "    'Nottingham': 0.85,\n",
    "    'Leeds': 0.85,\n",
    "    'Cardiff': 0.8,\n",
    "    'Brisbane': 0.8,\n",
    "    'Melbourne': 0.9,\n",
    "    'W.A.C.A': 0.7,\n",
    "    'Sydney': 0.85,\n",
    "    'Adelaide': 0.9,\n",
    "    'Providence': 0.75,\n",
    "    'Birmingham': 0.85,\n",
    "    'The Oval': 0.9,\n",
    "    'Nelson': 0.8,\n",
    "    'Dunedin': 0.75,\n",
    "    'Hamilton': 0.8,\n",
    "    'Bulawayo': 0.65,\n",
    "    'Gqeberha': 0.75,\n",
    "    'Durban': 0.7,\n",
    "    'Centurion': 0.75,\n",
    "    'Johannesburg': 0.8,\n",
    "    'Cape Town': 0.9,\n",
    "    'Bristol': 0.8,\n",
    "    'Taunton': 0.85,\n",
    "    'Manchester': 0.85,\n",
    "    'Karachi': 0.7,\n",
    "    'Rawalpindi': 0.75,\n",
    "    'Multan': 0.8,\n",
    "    'Rotterdam': 0.65,\n",
    "    'Hambantota': 0.7,\n",
    "    'Colombo (RPS)': 0.75,\n",
    "    'Hyderabad': 0.85,\n",
    "    'Ahmedabad': 0.9,\n",
    "    'Bengaluru': 0.85,\n",
    "    'Chennai': 0.9,\n",
    "    'Eden Gardens': 0.8,\n",
    "    'Perth': 0.75,\n",
    "    'Paarl': 0.8\n",
    "}\n",
    "\n",
    "dfr['Ground'] = dfr['Ground'].replace(pitch_assistance)\n",
    "dfr"
   ]
  },
  {
   "cell_type": "code",
   "execution_count": 26,
   "id": "4bfd521e",
   "metadata": {},
   "outputs": [
    {
     "name": "stdout",
     "output_type": "stream",
     "text": [
      "<class 'pandas.core.frame.DataFrame'>\n",
      "RangeIndex: 122 entries, 0 to 121\n",
      "Data columns (total 6 columns):\n",
      " #   Column      Non-Null Count  Dtype  \n",
      "---  ------      --------------  -----  \n",
      " 0   Runs        122 non-null    object \n",
      " 1   BF          122 non-null    object \n",
      " 2   Pos         122 non-null    object \n",
      " 3   Inns        122 non-null    object \n",
      " 4   Opposition  122 non-null    float64\n",
      " 5   Ground      122 non-null    float64\n",
      "dtypes: float64(2), object(4)\n",
      "memory usage: 5.8+ KB\n"
     ]
    }
   ],
   "source": [
    "dfr.info()"
   ]
  },
  {
   "cell_type": "code",
   "execution_count": 27,
   "id": "89734e2e",
   "metadata": {},
   "outputs": [],
   "source": [
    "dfr = dfr[~dfr['Runs'].isin(['DNB', 'TDNB'])].copy()"
   ]
  },
  {
   "cell_type": "code",
   "execution_count": 28,
   "id": "87faf288",
   "metadata": {},
   "outputs": [],
   "source": [
    "dfr['Pos'] = dfr['Pos'].astype(int)\n",
    "dfr['Inns'] = dfr['Inns'].astype(int)\n",
    "dfr['Runs'] = dfr['Runs'].str.replace('*', '').astype(int)"
   ]
  },
  {
   "cell_type": "code",
   "execution_count": 29,
   "id": "a7937b71",
   "metadata": {},
   "outputs": [],
   "source": [
    "dfr['BF'] = dfr['BF'].astype(int)"
   ]
  },
  {
   "cell_type": "code",
   "execution_count": 30,
   "id": "c5ace4d9",
   "metadata": {},
   "outputs": [
    {
     "data": {
      "text/plain": [
       "array([1, 2])"
      ]
     },
     "execution_count": 30,
     "metadata": {},
     "output_type": "execute_result"
    }
   ],
   "source": [
    "dfr['Inns'].unique()"
   ]
  },
  {
   "cell_type": "code",
   "execution_count": 31,
   "id": "fbc9d3b0",
   "metadata": {},
   "outputs": [
    {
     "name": "stdout",
     "output_type": "stream",
     "text": [
      "<class 'pandas.core.frame.DataFrame'>\n",
      "Int64Index: 119 entries, 0 to 121\n",
      "Data columns (total 6 columns):\n",
      " #   Column      Non-Null Count  Dtype  \n",
      "---  ------      --------------  -----  \n",
      " 0   Runs        119 non-null    int32  \n",
      " 1   BF          119 non-null    int32  \n",
      " 2   Pos         119 non-null    int32  \n",
      " 3   Inns        119 non-null    int32  \n",
      " 4   Opposition  119 non-null    float64\n",
      " 5   Ground      119 non-null    float64\n",
      "dtypes: float64(2), int32(4)\n",
      "memory usage: 4.6 KB\n"
     ]
    }
   ],
   "source": [
    "dfr.info()"
   ]
  },
  {
   "cell_type": "code",
   "execution_count": 33,
   "id": "de8ef72f",
   "metadata": {},
   "outputs": [
    {
     "data": {
      "text/plain": [
       "Runs          0.960610\n",
       "BF            1.000000\n",
       "Pos          -0.056978\n",
       "Inns         -0.187334\n",
       "Opposition   -0.088539\n",
       "Ground       -0.071671\n",
       "Name: BF, dtype: float64"
      ]
     },
     "execution_count": 33,
     "metadata": {},
     "output_type": "execute_result"
    }
   ],
   "source": [
    "dfr.corr()['BF']"
   ]
  },
  {
   "cell_type": "code",
   "execution_count": 13,
   "id": "7d278dc6",
   "metadata": {},
   "outputs": [],
   "source": [
    "X = dfr[[\"Pos\", \"Inns\",\"Opposition\",\"Ground\"]] \n",
    "y = dfr[\"Runs\"]\n",
    "X_train, X_test, y_train, y_test = train_test_split(X, y, test_size=0.1, random_state=42)\n"
   ]
  },
  {
   "cell_type": "code",
   "execution_count": 14,
   "id": "007f7066",
   "metadata": {},
   "outputs": [
    {
     "data": {
      "text/plain": [
       "LinearRegression()"
      ]
     },
     "execution_count": 14,
     "metadata": {},
     "output_type": "execute_result"
    }
   ],
   "source": [
    "model = LinearRegression()\n",
    "model.fit(X_train, y_train)"
   ]
  },
  {
   "cell_type": "code",
   "execution_count": 15,
   "id": "4b00b61a",
   "metadata": {},
   "outputs": [],
   "source": [
    "y_pred = model.predict(X_test)"
   ]
  },
  {
   "cell_type": "code",
   "execution_count": 16,
   "id": "4b0bf29e",
   "metadata": {},
   "outputs": [],
   "source": [
    "mse = mean_squared_error(y_test, y_pred)\n",
    "r2 = r2_score(y_test, y_pred)"
   ]
  },
  {
   "cell_type": "code",
   "execution_count": 17,
   "id": "e8da1ba9",
   "metadata": {},
   "outputs": [
    {
     "name": "stdout",
     "output_type": "stream",
     "text": [
      "SQRT(Mean Squared Error): 27.70860239005388\n",
      "R-squared: 0.1364446789891638\n"
     ]
    }
   ],
   "source": [
    "print(\"SQRT(Mean Squared Error):\", math.sqrt(mse))\n",
    "print(\"R-squared:\", r2)"
   ]
  },
  {
   "cell_type": "code",
   "execution_count": 18,
   "id": "d8964b97",
   "metadata": {},
   "outputs": [
    {
     "name": "stdout",
     "output_type": "stream",
     "text": [
      "59.649179305765614\n"
     ]
    },
    {
     "name": "stderr",
     "output_type": "stream",
     "text": [
      "c:\\users\\administrator\\appdata\\local\\programs\\python\\python37\\lib\\site-packages\\sklearn\\base.py:451: UserWarning: X does not have valid feature names, but LinearRegression was fitted with feature names\n",
      "  \"X does not have valid feature names, but\"\n"
     ]
    }
   ],
   "source": [
    "print(model.predict([[3,1,0.85,0.7]])[0])"
   ]
  },
  {
   "cell_type": "markdown",
   "id": "51bb7025",
   "metadata": {},
   "source": [
    "### StrikeRate Pred"
   ]
  },
  {
   "cell_type": "code",
   "execution_count": 34,
   "id": "aa2db7d3",
   "metadata": {},
   "outputs": [],
   "source": [
    "X2 = dfr[[\"Pos\", \"Inns\",\"Opposition\",\"Ground\"]] \n",
    "y2 = dfr[\"BF\"]\n",
    "X2_train, X2_test, y2_train, y2_test = train_test_split(X2, y2, test_size=0.1, random_state=42)\n"
   ]
  },
  {
   "cell_type": "code",
   "execution_count": 35,
   "id": "f69299af",
   "metadata": {},
   "outputs": [
    {
     "data": {
      "text/plain": [
       "LinearRegression()"
      ]
     },
     "execution_count": 35,
     "metadata": {},
     "output_type": "execute_result"
    }
   ],
   "source": [
    "model2 = LinearRegression()\n",
    "model2.fit(X2_train, y2_train)"
   ]
  },
  {
   "cell_type": "code",
   "execution_count": 36,
   "id": "10470a54",
   "metadata": {},
   "outputs": [],
   "source": [
    "y2_pred = model.predict(X2_test)"
   ]
  },
  {
   "cell_type": "code",
   "execution_count": 37,
   "id": "7dbee59b",
   "metadata": {},
   "outputs": [
    {
     "name": "stdout",
     "output_type": "stream",
     "text": [
      "SQRT(Mean Squared Error): 31.706843109236615\n",
      "R-squared: 0.11470165301921231\n"
     ]
    }
   ],
   "source": [
    "mse = mean_squared_error(y2_test, y2_pred)\n",
    "r2 = r2_score(y2_test, y2_pred)\n",
    "print(\"SQRT(Mean Squared Error):\", math.sqrt(mse))\n",
    "print(\"R-squared:\", r2)"
   ]
  },
  {
   "cell_type": "code",
   "execution_count": 39,
   "id": "4b74f077",
   "metadata": {},
   "outputs": [
    {
     "name": "stdout",
     "output_type": "stream",
     "text": [
      "66.62335684503226\n"
     ]
    },
    {
     "name": "stderr",
     "output_type": "stream",
     "text": [
      "c:\\users\\administrator\\appdata\\local\\programs\\python\\python37\\lib\\site-packages\\sklearn\\base.py:451: UserWarning: X does not have valid feature names, but LinearRegression was fitted with feature names\n",
      "  \"X does not have valid feature names, but\"\n"
     ]
    }
   ],
   "source": [
    "print(model2.predict([[3,1,0.85,0.7]])[0])"
   ]
  },
  {
   "cell_type": "code",
   "execution_count": 41,
   "id": "0572252b",
   "metadata": {},
   "outputs": [
    {
     "name": "stdout",
     "output_type": "stream",
     "text": [
      "Predicted Results: 59(67) \n",
      "After Match Results: 52(71)\n"
     ]
    }
   ],
   "source": [
    "print(\"Predicted Results: 59(67) \\nAfter Match Results: 52(71)\")"
   ]
  },
  {
   "cell_type": "code",
   "execution_count": null,
   "id": "e458cc73",
   "metadata": {},
   "outputs": [],
   "source": []
  }
 ],
 "metadata": {
  "kernelspec": {
   "display_name": "Python 3 (ipykernel)",
   "language": "python",
   "name": "python3"
  },
  "language_info": {
   "codemirror_mode": {
    "name": "ipython",
    "version": 3
   },
   "file_extension": ".py",
   "mimetype": "text/x-python",
   "name": "python",
   "nbconvert_exporter": "python",
   "pygments_lexer": "ipython3",
   "version": "3.7.0"
  }
 },
 "nbformat": 4,
 "nbformat_minor": 5
}
